{
 "cells": [
  {
   "cell_type": "code",
   "execution_count": 15,
   "id": "4ae83f67-7a36-421a-acf1-b479a3bd1803",
   "metadata": {
    "tags": []
   },
   "outputs": [],
   "source": [
    "x=1\n",
    "y=1"
   ]
  },
  {
   "cell_type": "code",
   "execution_count": 16,
   "id": "535c37da-cde4-4595-8100-c6c3fa41c2ea",
   "metadata": {},
   "outputs": [
    {
     "data": {
      "text/plain": [
       "2"
      ]
     },
     "execution_count": 16,
     "metadata": {},
     "output_type": "execute_result"
    }
   ],
   "source": [
    "z=x+y\n",
    "z"
   ]
  },
  {
   "cell_type": "markdown",
   "id": "b1853196-cc48-4857-8619-1c85df7f7097",
   "metadata": {},
   "source": [
    "MY Title"
   ]
  },
  {
   "cell_type": "code",
   "execution_count": null,
   "id": "4bedb3ae-99f7-4fce-9878-b361da254b1f",
   "metadata": {},
   "outputs": [],
   "source": []
  },
  {
   "cell_type": "code",
   "execution_count": null,
   "id": "276997ba-1c3d-4dd8-8219-cfccb467deea",
   "metadata": {},
   "outputs": [],
   "source": []
  },
  {
   "cell_type": "code",
   "execution_count": null,
   "id": "2a6a1432-f860-4041-ba93-f99c053d47be",
   "metadata": {},
   "outputs": [],
   "source": [
    "q=7"
   ]
  },
  {
   "cell_type": "code",
   "execution_count": null,
   "id": "57cb43c5-3e61-43fd-b7f2-8b3505d4fc18",
   "metadata": {},
   "outputs": [],
   "source": []
  },
  {
   "cell_type": "code",
   "execution_count": null,
   "id": "4e4b45b3-8771-4b79-967c-59d8b1ef1917",
   "metadata": {},
   "outputs": [],
   "source": []
  },
  {
   "cell_type": "code",
   "execution_count": null,
   "id": "28f6c00d-029e-44b7-8013-9fe19af56725",
   "metadata": {},
   "outputs": [],
   "source": [
    "w=3"
   ]
  }
 ],
 "metadata": {
  "kernelspec": {
   "display_name": "Python 3 (ipykernel)",
   "language": "python",
   "name": "python3"
  },
  "language_info": {
   "codemirror_mode": {
    "name": "ipython",
    "version": 3
   },
   "file_extension": ".py",
   "mimetype": "text/x-python",
   "name": "python",
   "nbconvert_exporter": "python",
   "pygments_lexer": "ipython3",
   "version": "3.9.5"
  },
  "toc-autonumbering": false,
  "toc-showmarkdowntxt": false,
  "toc-showtags": true
 },
 "nbformat": 4,
 "nbformat_minor": 5
}
